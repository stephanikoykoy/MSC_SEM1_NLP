{
 "cells": [
  {
   "cell_type": "markdown",
   "metadata": {},
   "source": [
    "# Question 5"
   ]
  },
  {
   "cell_type": "code",
   "execution_count": 1,
   "metadata": {},
   "outputs": [
    {
     "name": "stdout",
     "output_type": "stream",
     "text": [
      "Requirement already satisfied: nltk in /opt/conda/lib/python3.10/site-packages (3.7)\n",
      "Requirement already satisfied: tqdm in /opt/conda/lib/python3.10/site-packages (from nltk) (4.64.1)\n",
      "Requirement already satisfied: regex>=2021.8.3 in /opt/conda/lib/python3.10/site-packages (from nltk) (2022.10.31)\n",
      "Requirement already satisfied: click in /opt/conda/lib/python3.10/site-packages (from nltk) (8.1.3)\n",
      "Requirement already satisfied: joblib in /opt/conda/lib/python3.10/site-packages (from nltk) (1.2.0)\n"
     ]
    }
   ],
   "source": [
    "!pip install nltk"
   ]
  },
  {
   "cell_type": "code",
   "execution_count": 2,
   "metadata": {},
   "outputs": [],
   "source": [
    "import csv                               # csv reader\n",
    "from sklearn.svm import LinearSVC\n",
    "from nltk.classify import SklearnClassifier\n",
    "from sklearn.pipeline import Pipeline\n",
    "from sklearn.metrics import precision_recall_fscore_support # to report on precision and recall\n",
    "import numpy as np\n",
    "\n",
    "import re\n",
    "from string import punctuation"
   ]
  },
  {
   "cell_type": "code",
   "execution_count": 3,
   "metadata": {},
   "outputs": [],
   "source": [
    "def load_data(path):\n",
    "    \"\"\"Load data from a tab-separated file and append it to raw_data.\"\"\"\n",
    "    with open(path) as f:\n",
    "        reader = csv.reader(f, delimiter='\\t')\n",
    "        for line in reader:\n",
    "            if line[0] == \"Id\":  # skip header\n",
    "                continue\n",
    "            (label, text) = parse_data_line(line)\n",
    "            raw_data.append((text, label))\n",
    "\n",
    "def split_and_preprocess_data(percentage):\n",
    "    \"\"\"Split the data between train_data and test_data according to the percentage\n",
    "    and performs the preprocessing.\"\"\"\n",
    "    num_samples = len(raw_data)\n",
    "    num_training_samples = int((percentage * num_samples))\n",
    "    for (text, label) in raw_data[:num_training_samples]:\n",
    "        train_data.append((to_feature_vector(pre_process(text)),label))\n",
    "    for (text, label) in raw_data[num_training_samples:]:\n",
    "        test_data.append((to_feature_vector(pre_process(text)),label))"
   ]
  },
  {
   "cell_type": "markdown",
   "metadata": {},
   "source": [
    "# Input and preprocessing"
   ]
  },
  {
   "cell_type": "code",
   "execution_count": 4,
   "metadata": {},
   "outputs": [],
   "source": [
    "def convert_label(label):\n",
    "    \"\"\"Converts the multiple classes into two,\n",
    "    making it a binary distinction between fake news and real.\"\"\"\n",
    "    #return label\n",
    "    # Converting the multiclass labels to binary label\n",
    "    labels_map = {\n",
    "        'true': 'REAL',\n",
    "        'mostly-true': 'REAL',\n",
    "        'half-true': 'REAL',\n",
    "        'false': 'FAKE',\n",
    "        'barely-true': 'FAKE',\n",
    "        'pants-fire': 'FAKE'\n",
    "    }\n",
    "    return labels_map[label]\n",
    "\n",
    "def parse_data_line(data_line):\n",
    "    # Should return a tuple of the label as just FAKE or REAL and the statement\n",
    "    # e.g. (label, statement)\n",
    "    label = convert_label(data_line[1])\n",
    "    statement = data_line[2]\n",
    "    return (label, statement)"
   ]
  },
  {
   "cell_type": "code",
   "execution_count": 5,
   "metadata": {},
   "outputs": [
    {
     "name": "stderr",
     "output_type": "stream",
     "text": [
      "[nltk_data] Downloading package stopwords to /home/jovyan/nltk_data...\n",
      "[nltk_data]   Package stopwords is already up-to-date!\n"
     ]
    },
    {
     "data": {
      "text/plain": [
       "True"
      ]
     },
     "execution_count": 5,
     "metadata": {},
     "output_type": "execute_result"
    }
   ],
   "source": [
    "import nltk\n",
    "# for stop words removal\n",
    "from nltk.corpus import stopwords\n",
    "nltk.download('stopwords')"
   ]
  },
  {
   "cell_type": "code",
   "execution_count": 6,
   "metadata": {},
   "outputs": [
    {
     "name": "stderr",
     "output_type": "stream",
     "text": [
      "[nltk_data] Downloading package wordnet to /home/jovyan/nltk_data...\n",
      "[nltk_data]   Package wordnet is already up-to-date!\n",
      "[nltk_data] Downloading package omw-1.4 to /home/jovyan/nltk_data...\n",
      "[nltk_data]   Package omw-1.4 is already up-to-date!\n"
     ]
    }
   ],
   "source": [
    "import nltk\n",
    "nltk.download('wordnet')\n",
    "nltk.download('omw-1.4')\n",
    "# to lemmatise words\n",
    "from nltk.stem import WordNetLemmatizer "
   ]
  },
  {
   "cell_type": "code",
   "execution_count": 7,
   "metadata": {},
   "outputs": [],
   "source": [
    "# Input: a string of one statement\n",
    "def pre_process(text):\n",
    "    # Should return a list of tokens\n",
    "    # DESCRIBE YOUR METHOD IN WORDS\n",
    "    \n",
    "    # make all texts in lower case\n",
    "    text = text.lower()\n",
    "    \n",
    "    #remove ownership\n",
    "    text = text.replace(\"'s\",'')\n",
    "    \n",
    "    # find words with e.g. format: '90 percent' and consider it as one word '90percent'\n",
    "    reg_percent = r\"([\\d]+)[\\s](percent)\"\n",
    "    if(re.search(reg_percent, text)):\n",
    "        text = re.sub(reg_percent, r'\\1\\2', text)  \n",
    "    \n",
    "    # find words with e.g. format: '$90 million' and consider it as one word '$90million'\n",
    "    reg_million = r\"([$|£]{0,1}[\\d]+)[\\s](million|billion)\"\n",
    "    if(re.search(reg_million, text)):\n",
    "        text = re.sub(reg_million, r'\\1\\2', text)   \n",
    "    \n",
    "    # find words with e.g. format: '10:30 am' and consider it as one word '10:30am'\n",
    "    reg_time = r\"([\\d]{1,2}[:][\\d]{2})[\\s](am|pm)\"\n",
    "    if(re.search(reg_time, text)):\n",
    "        text = re.sub(reg_time, r'\\1\\2', text)    \n",
    "    \n",
    "    \n",
    "    text = text.split(' ')\n",
    "    # stop word removal to capture important words\n",
    "    stoplist = stopwords.words()\n",
    "    text = [w for w in text if not w in stoplist]\n",
    "    \n",
    "    # lemmatise text next\n",
    "    text = [WordNetLemmatizer().lemmatize(w) for w in text]\n",
    "    \n",
    "    # split into list\n",
    "    #text = text.split(' ')\n",
    "    token_draft = text\n",
    "    token = []\n",
    "       \n",
    "    n_tri_gram = ()\n",
    "    n_bi_gram = ()\n",
    "    for word in token_draft:\n",
    "        # if hash or @ in front of word keep word\n",
    "        reg_at_front = r'^[@][\\w]+'\n",
    "        reg_hash_front = r'^[#][\\w]+'\n",
    "        if(re.match(reg_at_front,word) or re.match(reg_hash_front,word)):\n",
    "            token.append(word)\n",
    "            continue\n",
    "        \n",
    "        # if currency in front of word keep word\n",
    "        reg_currency = r\"([$|£]{0,1}[\\d]+)\"\n",
    "        if(re.match(reg_currency,word)):\n",
    "            token.append(word)\n",
    "            continue\n",
    "        \n",
    "        # locate punctuations\n",
    "        reg_punctuations = r'[^\\w]+'\n",
    "        if(re.search(reg_punctuations,word)):\n",
    "            # remove irrelevant punctuations \n",
    "            word = word.strip(punctuation)\n",
    "            # check if its an email then keep word\n",
    "            reg_email = r'^([a-z0-9]+[\\._]?[a-z0-9]*)*[@](\\w+[.]\\w+)*$'\n",
    "            if(re.search(reg_email,word)):\n",
    "                token.append(word)\n",
    "                continue\n",
    "            # search words with punctuations in middle\n",
    "            reg_punc_mid_word = r'([a-z]+)([^\\w]+)([a-z]+)'\n",
    "            if(re.search(reg_punc_mid_word,word)):\n",
    "                # separate word with punctuations in middle e.g. this.My name is --> will result to --> this My name\n",
    "                reg_words = r'([a-z]+)'\n",
    "                word = re.findall(reg_words, word)\n",
    "                for x in word:\n",
    "                    token.append(x)\n",
    "        \n",
    "        if(type(word) == str):\n",
    "            # remove empty strings in list\n",
    "            if(len(word) != 0):\n",
    "                token.append(word)\n",
    "    \n",
    "            #append a trigram\n",
    "            tup = (word,)\n",
    "            if(word not in n_tri_gram):\n",
    "                n_tri_gram += tup\n",
    "            if (len(n_tri_gram) == 3):\n",
    "                token.append(n_tri_gram)\n",
    "                n_tri_gram = ()\n",
    "            \n",
    "            #append a bigram\n",
    "            #bi = (word,)\n",
    "            #if(word not in n_bi_gram):\n",
    "                #n_bi_gram += bi\n",
    "            #if (len(n_bi_gram) == 2):\n",
    "                #token.append(n_bi_gram)\n",
    "                #n_bi_gram = ()\n",
    "        \n",
    "    #return list of words\n",
    "    return token"
   ]
  },
  {
   "cell_type": "code",
   "execution_count": 8,
   "metadata": {},
   "outputs": [
    {
     "data": {
      "text/plain": [
       "['day',\n",
       " 'day',\n",
       " 'named',\n",
       " 'friend',\n",
       " ('day', 'named', 'friend'),\n",
       " '10.30am',\n",
       " '$90millions',\n",
       " '@maybe',\n",
       " 'test',\n",
       " 'test']"
      ]
     },
     "execution_count": 8,
     "metadata": {},
     "output_type": "execute_result"
    }
   ],
   "source": [
    "testtext = \"this is the days day's to i named my friend 10.30am $90millions @maybe test,test\"\n",
    "pre_process(testtext)"
   ]
  },
  {
   "cell_type": "markdown",
   "metadata": {},
   "source": [
    "# Feature Extraction"
   ]
  },
  {
   "cell_type": "code",
   "execution_count": 9,
   "metadata": {},
   "outputs": [],
   "source": [
    "# load negative words\n",
    "negative_words = []\n",
    "with open('negative-words.txt') as f:\n",
    "    for _ in range(36):\n",
    "        next(f)\n",
    "    for line in f:\n",
    "        reg_word = r'([\\w]+)(\\n)'\n",
    "        text = re.sub(reg_word, r'\\1', line)  \n",
    "        negative_words.append(text)"
   ]
  },
  {
   "cell_type": "code",
   "execution_count": 10,
   "metadata": {},
   "outputs": [
    {
     "data": {
      "text/plain": [
       "['2-faces', 'abnormal', 'abolish', 'abominable', 'abominably']"
      ]
     },
     "execution_count": 10,
     "metadata": {},
     "output_type": "execute_result"
    }
   ],
   "source": [
    "negative_words[:5]"
   ]
  },
  {
   "cell_type": "code",
   "execution_count": 11,
   "metadata": {},
   "outputs": [],
   "source": [
    "global_feature_dict = {} # word: index\n",
    "\n",
    "def to_feature_vector(token):\n",
    "    # Should return a dictionary containing features as keys, and weights as values\n",
    "    # DESCRIBE YOUR METHOD IN WORDS\n",
    "    feature_vector = {} # index: weight\n",
    "    num_neg_words = 0\n",
    "    n = len(token)\n",
    "    for word in token:\n",
    "        try:\n",
    "            # word found in dic, get index \n",
    "            i = global_feature_dict[word]\n",
    "        except KeyError: # error thrown when retrieving [word] = new word not found in dictionary\n",
    "            i = len(global_feature_dict) + 1\n",
    "            global_feature_dict[word] = i\n",
    "        # assigning weight to the features\n",
    "        \n",
    "        try:\n",
    "            # repeated word, increase weight value weight += 1 (counting frequency of words)\n",
    "            feature_vector[i] += 1/n\n",
    "        except KeyError: # error thrown when retrieving [i] = new index not found in featureVector\n",
    "            feature_vector[i] = 1/n\n",
    "        \n",
    "        # if negative words found, increase value weight of feature vector\n",
    "        if(word in negative_words):\n",
    "            num_neg_words += 1\n",
    "            feature_vector[i] += (num_neg_words/n)\n",
    "    return feature_vector"
   ]
  },
  {
   "cell_type": "code",
   "execution_count": 12,
   "metadata": {},
   "outputs": [],
   "source": [
    "# TRAINING AND VALIDATING OUR CLASSIFIER\n",
    "\n",
    "def train_classifier(data):\n",
    "    print(\"Training Classifier...\")\n",
    "    pipeline =  Pipeline([('svc', LinearSVC())])\n",
    "    return SklearnClassifier(pipeline).train(data)"
   ]
  },
  {
   "cell_type": "markdown",
   "metadata": {},
   "source": [
    "# Cross-validation"
   ]
  },
  {
   "cell_type": "code",
   "execution_count": 13,
   "metadata": {},
   "outputs": [],
   "source": [
    "#solution\n",
    "from sklearn.metrics import classification_report\n",
    "from sklearn.metrics import accuracy_score\n",
    "\n",
    "test_data_cv = {}\n",
    "train_data_cv = {}\n",
    "def cross_validate(dataset, folds):\n",
    "    results = []\n",
    "    fold_size = int(len(dataset)/folds) + 1\n",
    "    \n",
    "    counter = 0 # used to get\n",
    "    precision = 0 # tp/(tp+fp)\n",
    "    recall = 0 # tp/(tp+fn)\n",
    "    f1_score = 0 # 2PR/(P+R)\n",
    "    accuracy = 0\n",
    "    fold_num = 1\n",
    "    for i in range(0,len(dataset),int(fold_size)):\n",
    "        # insert code here that trains and tests on the 10 folds of data in the dataset\n",
    "        print(\"Fold start on items %d - %d\" % (i, i+fold_size))\n",
    "        # FILL IN THE METHOD HERE\n",
    "        last_index_test = i + fold_size - counter\n",
    "        size_of_test_set = int(fold_size/folds)\n",
    "        start_index_test = last_index_test - size_of_test_set\n",
    "        counter += size_of_test_set\n",
    "        test_indexes = []\n",
    "        train_indexes = []\n",
    "        test_data = []\n",
    "        train_data = []\n",
    "        ## test data\n",
    "        # get the test indexes for the fold\n",
    "        for j in range(start_index_test, last_index_test+1):\n",
    "            if(j < len(dataset)):\n",
    "                test_indexes.append(j)\n",
    "        \n",
    "        # get the test data for the fold\n",
    "        for j in test_indexes:\n",
    "            data = dataset[j]\n",
    "            test_data.append(data)\n",
    "        \n",
    "        test_data_cv[f'Fold {fold_num}'] = test_data\n",
    "        \n",
    "        ## train data\n",
    "        # get the train indexes for the fold\n",
    "        fold_range = i+fold_size+1 #plus one to include last value\n",
    "        for k in range(i,fold_range):\n",
    "            if k not in test_indexes:\n",
    "                if(k < len(dataset)): # make sure k index value is still within index of dataset\n",
    "                    train_indexes.append(k)\n",
    "        \n",
    "        # get the train data for the fold\n",
    "        for k in train_indexes:\n",
    "            data = dataset[k]\n",
    "            train_data.append(data)\n",
    "        \n",
    "        train_data_cv[f'Fold {fold_num}'] = train_data\n",
    "        \n",
    "        training = train_classifier(train_data)  # train the data classifier in each fold\n",
    "        test_y_pred = predict_labels([x[0] for x in test_data], training) # evaluate the trained data on test data in each fold to get test prediction\n",
    "        \n",
    "        test_y_true = [t[1] for t in test_data]   # get the ground-truth labels from the data\n",
    "        final_scores = precision_recall_fscore_support(test_y_true, test_y_pred, average='weighted') \n",
    "        \n",
    "        print(classification_report(test_y_true,test_y_pred))\n",
    "        print('--'*20)\n",
    "        \n",
    "        precision += final_scores[0]\n",
    "        recall += final_scores[1]\n",
    "        f1_score += final_scores[2]\n",
    "        accuracy += accuracy_score(test_y_true,test_y_pred)\n",
    "        \n",
    "        fold_num +=1\n",
    "    \n",
    "    precision = precision / folds\n",
    "    recall = recall / folds\n",
    "    f1_score = f1_score / folds\n",
    "    accuracy = accuracy / folds\n",
    "    \n",
    "    cv_results = {'precision': precision,'recall': recall, 'f1_score': f1_score, 'accuracy':accuracy}\n",
    "        \n",
    "    return cv_results"
   ]
  },
  {
   "cell_type": "code",
   "execution_count": 14,
   "metadata": {},
   "outputs": [],
   "source": [
    "# PREDICTING LABELS GIVEN A CLASSIFIER\n",
    "\n",
    "def predict_labels(samples, classifier):\n",
    "    \"\"\"Assuming preprocessed samples, return their predicted labels from the classifier model.\"\"\"\n",
    "    return classifier.classify_many(samples)\n",
    "\n",
    "def predict_label_from_raw(sample, classifier):\n",
    "    \"\"\"Assuming raw text, return its predicted label from the classifier model.\"\"\"\n",
    "    return classifier.classify(to_feature_vector(preProcess(reviewSample)))"
   ]
  },
  {
   "cell_type": "code",
   "execution_count": 15,
   "metadata": {},
   "outputs": [
    {
     "name": "stdout",
     "output_type": "stream",
     "text": [
      "Now 0 rawData, 0 trainData, 0 testData\n",
      "Preparing the dataset...\n",
      "Now 10241 rawData, 0 trainData, 0 testData\n",
      "Preparing training and test data...\n",
      "After split, 10241 rawData, 8192 trainData, 2049 testData\n",
      "Training Samples: \n",
      "8192\n",
      "Features: \n",
      "37937\n"
     ]
    }
   ],
   "source": [
    "# MAIN\n",
    "\n",
    "# loading reviews\n",
    "# initialize global lists that will be appended to by the methods below\n",
    "raw_data = []          # the filtered data from the dataset file\n",
    "train_data = []        # the pre-processed training data as a percentage of the total dataset\n",
    "test_data = []         # the pre-processed test data as a percentage of the total dataset\n",
    "\n",
    "\n",
    "# references to the data files\n",
    "data_file_path = 'fake_news.tsv'\n",
    "\n",
    "# Do the actual stuff (i.e. call the functions we've made)\n",
    "# We parse the dataset and put it in a raw data list\n",
    "print(\"Now %d rawData, %d trainData, %d testData\" % (len(raw_data), len(train_data), len(test_data)),\n",
    "      \"Preparing the dataset...\",sep='\\n')\n",
    "\n",
    "load_data(data_file_path) \n",
    "\n",
    "# We split the raw dataset into a set of training data and a set of test data (80/20)\n",
    "# You do the cross validation on the 80% (training data)\n",
    "# We print the number of training samples and the number of features before the split\n",
    "print(\"Now %d rawData, %d trainData, %d testData\" % (len(raw_data), len(train_data), len(test_data)),\n",
    "      \"Preparing training and test data...\",sep='\\n')\n",
    "\n",
    "split_and_preprocess_data(0.8)\n",
    "\n",
    "# We print the number of training samples and the number of features after the split\n",
    "print(\"After split, %d rawData, %d trainData, %d testData\" % (len(raw_data), len(train_data), len(test_data)),\n",
    "      \"Training Samples: \", len(train_data), \"Features: \", len(global_feature_dict), sep='\\n')\n"
   ]
  },
  {
   "cell_type": "code",
   "execution_count": 16,
   "metadata": {},
   "outputs": [
    {
     "name": "stdout",
     "output_type": "stream",
     "text": [
      "Fold start on items 0 - 820\n",
      "Training Classifier...\n",
      "              precision    recall  f1-score   support\n",
      "\n",
      "        FAKE       0.71      0.15      0.24        34\n",
      "        REAL       0.62      0.96      0.75        49\n",
      "\n",
      "    accuracy                           0.63        83\n",
      "   macro avg       0.67      0.55      0.50        83\n",
      "weighted avg       0.66      0.63      0.54        83\n",
      "\n",
      "----------------------------------------\n",
      "Fold start on items 820 - 1640\n",
      "Training Classifier...\n",
      "              precision    recall  f1-score   support\n",
      "\n",
      "        FAKE       0.50      0.38      0.43        34\n",
      "        REAL       0.63      0.73      0.68        49\n",
      "\n",
      "    accuracy                           0.59        83\n",
      "   macro avg       0.57      0.56      0.56        83\n",
      "weighted avg       0.58      0.59      0.58        83\n",
      "\n",
      "----------------------------------------\n",
      "Fold start on items 1640 - 2460\n",
      "Training Classifier...\n",
      "              precision    recall  f1-score   support\n",
      "\n",
      "        FAKE       0.64      0.38      0.48        42\n",
      "        REAL       0.55      0.78      0.65        41\n",
      "\n",
      "    accuracy                           0.58        83\n",
      "   macro avg       0.60      0.58      0.56        83\n",
      "weighted avg       0.60      0.58      0.56        83\n",
      "\n",
      "----------------------------------------\n",
      "Fold start on items 2460 - 3280\n",
      "Training Classifier...\n",
      "              precision    recall  f1-score   support\n",
      "\n",
      "        FAKE       0.62      0.13      0.21        39\n",
      "        REAL       0.55      0.93      0.69        44\n",
      "\n",
      "    accuracy                           0.55        83\n",
      "   macro avg       0.59      0.53      0.45        83\n",
      "weighted avg       0.58      0.55      0.47        83\n",
      "\n",
      "----------------------------------------\n",
      "Fold start on items 3280 - 4100\n",
      "Training Classifier...\n",
      "              precision    recall  f1-score   support\n",
      "\n",
      "        FAKE       0.75      0.15      0.26        39\n",
      "        REAL       0.56      0.95      0.71        44\n",
      "\n",
      "    accuracy                           0.58        83\n",
      "   macro avg       0.66      0.55      0.48        83\n",
      "weighted avg       0.65      0.58      0.49        83\n",
      "\n",
      "----------------------------------------\n",
      "Fold start on items 4100 - 4920\n",
      "Training Classifier...\n",
      "              precision    recall  f1-score   support\n",
      "\n",
      "        FAKE       0.80      0.10      0.17        41\n",
      "        REAL       0.53      0.98      0.68        42\n",
      "\n",
      "    accuracy                           0.54        83\n",
      "   macro avg       0.66      0.54      0.43        83\n",
      "weighted avg       0.66      0.54      0.43        83\n",
      "\n",
      "----------------------------------------\n",
      "Fold start on items 4920 - 5740\n",
      "Training Classifier...\n",
      "              precision    recall  f1-score   support\n",
      "\n",
      "        FAKE       0.67      0.13      0.22        30\n",
      "        REAL       0.66      0.96      0.78        53\n",
      "\n",
      "    accuracy                           0.66        83\n",
      "   macro avg       0.66      0.55      0.50        83\n",
      "weighted avg       0.66      0.66      0.58        83\n",
      "\n",
      "----------------------------------------\n",
      "Fold start on items 5740 - 6560\n",
      "Training Classifier...\n",
      "              precision    recall  f1-score   support\n",
      "\n",
      "        FAKE       0.70      0.16      0.26        44\n",
      "        REAL       0.49      0.92      0.64        39\n",
      "\n",
      "    accuracy                           0.52        83\n",
      "   macro avg       0.60      0.54      0.45        83\n",
      "weighted avg       0.60      0.52      0.44        83\n",
      "\n",
      "----------------------------------------\n",
      "Fold start on items 6560 - 7380\n",
      "Training Classifier...\n",
      "              precision    recall  f1-score   support\n",
      "\n",
      "        FAKE       0.38      0.13      0.19        39\n",
      "        REAL       0.51      0.82      0.63        44\n",
      "\n",
      "    accuracy                           0.49        83\n",
      "   macro avg       0.45      0.47      0.41        83\n",
      "weighted avg       0.45      0.49      0.43        83\n",
      "\n",
      "----------------------------------------\n",
      "Fold start on items 7380 - 8200\n",
      "Training Classifier...\n",
      "              precision    recall  f1-score   support\n",
      "\n",
      "        FAKE       0.23      0.11      0.15        27\n",
      "        REAL       0.66      0.82      0.73        56\n",
      "\n",
      "    accuracy                           0.59        83\n",
      "   macro avg       0.44      0.47      0.44        83\n",
      "weighted avg       0.52      0.59      0.54        83\n",
      "\n",
      "----------------------------------------\n"
     ]
    },
    {
     "data": {
      "text/plain": [
       "{'precision': 0.5964190046104922,\n",
       " 'recall': 0.5734939759036145,\n",
       " 'f1_score': 0.5061977986999295,\n",
       " 'accuracy': 0.5734939759036145}"
      ]
     },
     "execution_count": 16,
     "metadata": {},
     "output_type": "execute_result"
    }
   ],
   "source": [
    "cross_validate(train_data, 10)  # will work and output overall performance of p, r, f-score when cv implemented"
   ]
  },
  {
   "cell_type": "markdown",
   "metadata": {},
   "source": [
    "# Error Analysis"
   ]
  },
  {
   "cell_type": "code",
   "execution_count": 17,
   "metadata": {},
   "outputs": [],
   "source": [
    "from sklearn import metrics\n",
    "import matplotlib.pyplot as plt\n",
    "# a function to make the confusion matrix readable and pretty\n",
    "def confusion_matrix_heatmap(y_test, preds, labels):\n",
    "    \"\"\"Function to plot a confusion matrix\"\"\"\n",
    "    # pass labels to the confusion matrix function to ensure right order\n",
    "    #cm = metrics.confusion_matrix(y_test, preds, labels)\n",
    "    cm = metrics.confusion_matrix(y_test, preds)\n",
    "    fig = plt.figure(figsize=(10,10))\n",
    "    ax = fig.add_subplot(111)\n",
    "    cax = ax.matshow(cm)\n",
    "    plt.title('Confusion matrix of the classifier')\n",
    "    fig.colorbar(cax)\n",
    "    ax.set_xticks(np.arange(len(labels)))\n",
    "    ax.set_yticks(np.arange(len(labels)))\n",
    "    ax.set_xticklabels( labels, rotation=45)\n",
    "    ax.set_yticklabels( labels)\n",
    "\n",
    "    for i in range(len(cm)):\n",
    "        for j in range(len(cm)):\n",
    "            text = ax.text(j, i, cm[i, j],\n",
    "                           ha=\"center\", va=\"center\", color=\"w\")\n",
    "\n",
    "    plt.xlabel('Predicted')\n",
    "    plt.ylabel('True')\n",
    "    \n",
    "    # fix for mpl bug that cuts off top/bottom of seaborn viz:\n",
    "    b, t = plt.ylim() # discover the values for bottom and top\n",
    "    b += 0.5 # Add 0.5 to the bottom\n",
    "    t -= 0.5 # Subtract 0.5 from the top\n",
    "    plt.ylim(b, t) # update the ylim(bottom, top) values\n",
    "    plt.show() # ta-da!\n",
    "    plt.show()"
   ]
  },
  {
   "cell_type": "code",
   "execution_count": 18,
   "metadata": {},
   "outputs": [
    {
     "name": "stdout",
     "output_type": "stream",
     "text": [
      "Training Classifier...\n"
     ]
    },
    {
     "data": {
      "image/png": "[encoded data removed]",
      "text/plain": [
       "<Figure size 1000x1000 with 2 Axes>"
      ]
     },
     "metadata": {},
     "output_type": "display_data"
    }
   ],
   "source": [
    "first_fold_train = train_data_cv['Fold 1']\n",
    "first_fold_test = test_data_cv['Fold 1']\n",
    "\n",
    "classifier = train_classifier(first_fold_train)  # train the classifier\n",
    "test_y_true = [t[1] for t in first_fold_test]   # get the ground-truth labels from the data\n",
    "test_y_pred = predict_labels([x[0] for x in first_fold_test], classifier) \n",
    "\n",
    "labels = ['FAKE','REAL']\n",
    "        \n",
    "confusion_matrix_heatmap(test_y_true, test_y_pred, labels)"
   ]
  },
  {
   "cell_type": "code",
   "execution_count": 19,
   "metadata": {},
   "outputs": [],
   "source": [
    "n = len(first_fold_test)"
   ]
  },
  {
   "cell_type": "code",
   "execution_count": 20,
   "metadata": {},
   "outputs": [
    {
     "name": "stdout",
     "output_type": "stream",
     "text": [
      "\u001b[4mFalse negative and False positive\u001b[0m\n",
      "0:  20 years french stood ('years', 'french', 'stood') united state foreign ('united', 'state', 'foreign') policy \n",
      "\u001b[1mActual\u001b[0m -> FAKE | \u001b[1mPredicted\u001b[0m -> REAL \u001b[1m(False Positive)\u001b[0m\n",
      "\n",
      "3:  attorney general loretta ('attorney', 'general', 'loretta') lynch member bill ('lynch', 'member', 'bill') clinton defense team ('clinton', 'defense', 'team') 1992 whitewater corruption probe ('whitewater', 'corruption', 'probe') \n",
      "\u001b[1mActual\u001b[0m -> FAKE | \u001b[1mPredicted\u001b[0m -> REAL \u001b[1m(False Positive)\u001b[0m\n",
      "\n",
      "4:  thousand manhattan rally ('thousand', 'manhattan', 'rally') donald trump chanting ('donald', 'trump', 'chanting') hate muslims blacks ('hate', 'muslims', 'blacks') great country back ('great', 'country', 'back') \n",
      "\u001b[1mActual\u001b[0m -> FAKE | \u001b[1mPredicted\u001b[0m -> REAL \u001b[1m(False Positive)\u001b[0m\n",
      "\n",
      "5:  barack obama passed ('barack', 'obama', 'passed') law moving welfare ('law', 'moving', 'welfare') work \n",
      "\u001b[1mActual\u001b[0m -> REAL | \u001b[1mPredicted\u001b[0m -> FAKE \u001b[1m(False Negative)\u001b[0m\n",
      "\n",
      "16:  christian pastor vermont ('christian', 'pastor', 'vermont') sentenced year prison ('sentenced', 'year', 'prison') refusing marry gay ('refusing', 'marry', 'gay') couple \n",
      "\u001b[1mActual\u001b[0m -> FAKE | \u001b[1mPredicted\u001b[0m -> REAL \u001b[1m(False Positive)\u001b[0m\n",
      "\n",
      "19:  allowed referring email ('allowed', 'referring', 'email') practices \n",
      "\u001b[1mActual\u001b[0m -> FAKE | \u001b[1mPredicted\u001b[0m -> REAL \u001b[1m(False Positive)\u001b[0m\n",
      "\n",
      "23:  rob portman registered ('rob', 'portman', 'registered') foreign agent client ('foreign', 'agent', 'client') haiti time baby ('haiti', 'time', 'baby') doc duvalier despot ('doc', 'duvalier', 'despot') killing people \n",
      "\u001b[1mActual\u001b[0m -> FAKE | \u001b[1mPredicted\u001b[0m -> REAL \u001b[1m(False Positive)\u001b[0m\n",
      "\n",
      "24:  recent solar energy ('recent', 'solar', 'energy') policy georgia resulted ('policy', 'georgia', 'resulted') rate hike result ('rate', 'hike', 'result') economically viable ('solar', 'economically', 'viable') \n",
      "\u001b[1mActual\u001b[0m -> FAKE | \u001b[1mPredicted\u001b[0m -> REAL \u001b[1m(False Positive)\u001b[0m\n",
      "\n",
      "30:  spend caput health ('spend', 'caput', 'health') nation earth \n",
      "\u001b[1mActual\u001b[0m -> FAKE | \u001b[1mPredicted\u001b[0m -> REAL \u001b[1m(False Positive)\u001b[0m\n",
      "\n",
      "31:  texas education agency ('texas', 'education', 'agency') make undocumented immigrant ('make', 'undocumented', 'immigrant') paying in state tuition ('paying', 'tuition', 'texas') college applying permanent ('college', 'applying', 'permanent') residency \n",
      "\u001b[1mActual\u001b[0m -> FAKE | \u001b[1mPredicted\u001b[0m -> REAL \u001b[1m(False Positive)\u001b[0m\n",
      "\n",
      "33:  hidden healthcare gov code language ('hidden', 'code', 'language') mean user waive ('mean', 'user', 'waive') reasonable privacy personal ('reasonable', 'privacy', 'personal') information \n",
      "\u001b[1mActual\u001b[0m -> FAKE | \u001b[1mPredicted\u001b[0m -> REAL \u001b[1m(False Positive)\u001b[0m\n",
      "\n",
      "35:  military expert 25 30 member ('military', 'expert', 'member') qaeda afghanistan \n",
      "\u001b[1mActual\u001b[0m -> FAKE | \u001b[1mPredicted\u001b[0m -> REAL \u001b[1m(False Positive)\u001b[0m\n",
      "\n",
      "38:  barack obama network ('barack', 'obama', 'network') small donor constitutes ('small', 'donor', 'constitutes') parallel public financing ('parallel', 'public', 'financing') system \n",
      "\u001b[1mActual\u001b[0m -> REAL | \u001b[1mPredicted\u001b[0m -> FAKE \u001b[1m(False Negative)\u001b[0m\n",
      "\n",
      "39:  cranston cost $5,000 $6,000 send ('cranston', 'cost', 'send') community notification level ('community', 'notification', 'level') 3 sex offender \n",
      "\u001b[1mActual\u001b[0m -> FAKE | \u001b[1mPredicted\u001b[0m -> REAL \u001b[1m(False Positive)\u001b[0m\n",
      "\n",
      "41:  united state building ('united', 'state', 'building') aircraft long range bombers additional ('aircraft', 'bombers', 'additional') carriers nuclear ('aircraft', 'carriers', 'nuclear') submarines \n",
      "\u001b[1mActual\u001b[0m -> FAKE | \u001b[1mPredicted\u001b[0m -> REAL \u001b[1m(False Positive)\u001b[0m\n",
      "\n",
      "42:  year spend roughly ('year', 'spend', 'roughly') $500billion tax compliance ('tax', 'compliance', 'roughly') budget entire military ('budget', 'entire', 'military') entirely wasted ('entirely', 'wasted', 'tax') \n",
      "\u001b[1mActual\u001b[0m -> FAKE | \u001b[1mPredicted\u001b[0m -> REAL \u001b[1m(False Positive)\u001b[0m\n",
      "\n",
      "47:  romneys bain capital ('romneys', 'bain', 'capital') profit kb toys ('profit', 'kb', 'toys') business described boston ('business', 'described', 'boston') herald disgusting \n",
      "\u001b[1mActual\u001b[0m -> FAKE | \u001b[1mPredicted\u001b[0m -> REAL \u001b[1m(False Positive)\u001b[0m\n",
      "\n",
      "48:  roy cooper refusal ('roy', 'cooper', 'refusal') job costing taxpayer ('job', 'costing', 'taxpayer') money \n",
      "\u001b[1mActual\u001b[0m -> FAKE | \u001b[1mPredicted\u001b[0m -> REAL \u001b[1m(False Positive)\u001b[0m\n",
      "\n",
      "53:  2013 50percent baby born oregon ('baby', 'born', 'oregon') hispanic \n",
      "\u001b[1mActual\u001b[0m -> FAKE | \u001b[1mPredicted\u001b[0m -> REAL \u001b[1m(False Positive)\u001b[0m\n",
      "\n",
      "56:  earmark moratorium \n",
      "\u001b[1mActual\u001b[0m -> FAKE | \u001b[1mPredicted\u001b[0m -> REAL \u001b[1m(False Positive)\u001b[0m\n",
      "\n",
      "57:  milwaukee problem include ('milwaukee', 'problem', 'include') 52percent black male unemployment ('black', 'male', 'unemployment') \n",
      "\u001b[1mActual\u001b[0m -> FAKE | \u001b[1mPredicted\u001b[0m -> REAL \u001b[1m(False Positive)\u001b[0m\n",
      "\n",
      "58:  rob cornilles disputed ('rob', 'cornilles', 'disputed') year news story ('year', 'news', 'story') cut social security ('cut', 'social', 'security') medicare program trimming ('medicare', 'program', 'trimming') u s defense budget \n",
      "\u001b[1mActual\u001b[0m -> FAKE | \u001b[1mPredicted\u001b[0m -> REAL \u001b[1m(False Positive)\u001b[0m\n",
      "\n",
      "59:  texas railroad commissioner ('texas', 'railroad', 'commissioner') michael williams attended ('michael', 'williams', 'attended') 150 tea party gatherings ('tea', 'party', 'gatherings') \n",
      "\u001b[1mActual\u001b[0m -> FAKE | \u001b[1mPredicted\u001b[0m -> REAL \u001b[1m(False Positive)\u001b[0m\n",
      "\n",
      "60:  harry reid voted ('harry', 'reid', 'voted') give special tax ('give', 'special', 'tax') break illegal aliens ('break', 'illegal', 'aliens') \n",
      "\u001b[1mActual\u001b[0m -> FAKE | \u001b[1mPredicted\u001b[0m -> REAL \u001b[1m(False Positive)\u001b[0m\n",
      "\n",
      "61:  job growth united ('job', 'growth', 'united') state fastest pace ('state', 'fastest', 'pace') country history \n",
      "\u001b[1mActual\u001b[0m -> FAKE | \u001b[1mPredicted\u001b[0m -> REAL \u001b[1m(False Positive)\u001b[0m\n",
      "\n",
      "67:  state rhode island ('state', 'rhode', 'island') worst funded pension country ('worst', 'pension', 'country') \n",
      "\u001b[1mActual\u001b[0m -> FAKE | \u001b[1mPredicted\u001b[0m -> REAL \u001b[1m(False Positive)\u001b[0m\n",
      "\n",
      "70:  2012 redistricting wisconsin competitive ('redistricting', 'wisconsin', 'competitive') congressional districts \n",
      "\u001b[1mActual\u001b[0m -> FAKE | \u001b[1mPredicted\u001b[0m -> REAL \u001b[1m(False Positive)\u001b[0m\n",
      "\n",
      "73:  he asked inflationary ('he', 'asked', 'inflationary') budget increase 10 milwaukee ('budget', 'increase', 'milwaukee') county sheriff \n",
      "\u001b[1mActual\u001b[0m -> FAKE | \u001b[1mPredicted\u001b[0m -> REAL \u001b[1m(False Positive)\u001b[0m\n",
      "\n",
      "74:  york mayor bill ('york', 'mayor', 'bill') blasio homicide 20percent, subway ('blasio', 'homicide', 'subway') delay soared 45percent. \n",
      "\u001b[1mActual\u001b[0m -> FAKE | \u001b[1mPredicted\u001b[0m -> REAL \u001b[1m(False Positive)\u001b[0m\n",
      "\n",
      "76:  u s rep lamar smith ('rep', 'lamar', 'smith') supported $700billion wall street ('supported', 'wall', 'street') bailout 2008, but standing ('bailout', 'but', 'standing') reform assure bailouts ('reform', 'assure', 'bailouts') happen again \n",
      "\u001b[1mActual\u001b[0m -> FAKE | \u001b[1mPredicted\u001b[0m -> REAL \u001b[1m(False Positive)\u001b[0m\n",
      "\n",
      "81:  rick perry 25-year incumbent ('rick', 'perry', 'incumbent') \n",
      "\u001b[1mActual\u001b[0m -> FAKE | \u001b[1mPredicted\u001b[0m -> REAL \u001b[1m(False Positive)\u001b[0m\n",
      "\n"
     ]
    }
   ],
   "source": [
    "print('\\033[4mFalse negative and False positive\\033[0m')\n",
    "for i in range(n):\n",
    "    dic_fold = first_fold_test[i][0]\n",
    "    \n",
    "    actual = first_fold_test[i][1]\n",
    "    predicted = test_y_pred[i]\n",
    "    false_pos = (actual == 'FAKE' and predicted == 'REAL')\n",
    "    false_neg = (actual == 'REAL' and predicted == 'FAKE')\n",
    "    if(false_pos or false_neg):\n",
    "        print(f'{i}: ', end = ' ')\n",
    "    for key, val in dic_fold.items():\n",
    "        for key_g, val_g in global_feature_dict.items():\n",
    "            if(key == val_g):\n",
    "                if(false_pos or false_neg):\n",
    "                    print(key_g, end = ' ')\n",
    "    if(false_pos):\n",
    "        print()\n",
    "        print(f'\\033[1mActual\\033[0m -> {actual} | \\033[1mPredicted\\033[0m -> {predicted} \\033[1m(False Positive)\\033[0m')\n",
    "        print()\n",
    "    elif(false_neg):\n",
    "        print()\n",
    "        print(f'\\033[1mActual\\033[0m -> {actual} | \\033[1mPredicted\\033[0m -> {predicted} \\033[1m(False Negative)\\033[0m')\n",
    "        print()"
   ]
  },
  {
   "cell_type": "code",
   "execution_count": 21,
   "metadata": {},
   "outputs": [
    {
     "name": "stdout",
     "output_type": "stream",
     "text": [
      "({25: 0.1, 248: 0.1, 159: 0.1, 15051: 0.1, 638: 0.1, 923: 0.1, 16044: 0.1, 31864: 0.1, 2362: 0.1, 323: 0.1}, 'REAL')\n",
      "Training Classifier...\n",
      "Done training!\n",
      "Precision: 0.604954\n",
      "Recall: 0.605173\n",
      "F Score:0.584313\n"
     ]
    }
   ],
   "source": [
    "# Finally, check the accuracy of your classifier by training on all the traning data\n",
    "# and testing on the test set\n",
    "# Will only work once all functions are complete\n",
    "functions_complete = True  # set to True once you're happy with your methods for cross val\n",
    "if functions_complete:\n",
    "    print(test_data[0])   # have a look at the first test data instance\n",
    "    classifier = train_classifier(train_data)  # train the classifier\n",
    "    test_true = [t[1] for t in test_data]   # get the ground-truth labels from the data\n",
    "    test_pred = predict_labels([x[0] for x in test_data], classifier)  # classify the test data to get predicted labels\n",
    "    final_scores = precision_recall_fscore_support(test_true, test_pred, average='weighted') # evaluate\n",
    "    print(\"Done training!\")\n",
    "    print(\"Precision: %f\\nRecall: %f\\nF Score:%f\" % final_scores[:3])"
   ]
  },
  {
   "cell_type": "code",
   "execution_count": null,
   "metadata": {},
   "outputs": [],
   "source": []
  }
 ],
 "metadata": {
  "kernelspec": {
   "display_name": "Python 3 (ipykernel)",
   "language": "python",
   "name": "python3"
  },
  "language_info": {
   "codemirror_mode": {
    "name": "ipython",
    "version": 3
   },
   "file_extension": ".py",
   "mimetype": "text/x-python",
   "name": "python",
   "nbconvert_exporter": "python",
   "pygments_lexer": "ipython3",
   "version": "3.10.6"
  }
 },
 "nbformat": 4,
 "nbformat_minor": 4
}
