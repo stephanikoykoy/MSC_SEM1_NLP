{
 "cells": [
  {
   "cell_type": "code",
   "execution_count": 1,
   "metadata": {},
   "outputs": [
    {
     "name": "stdout",
     "output_type": "stream",
     "text": [
      "[S -> VP ., VP -> VB NP, VB -> 'open', NP -> DT NN, DT -> 'the', NN -> 'door', . -> '.']\n",
      "S -> VP .\n",
      "VP -> VB NP\n",
      "VB -> 'open'\n",
      "NP -> DT NN\n",
      "DT -> 'the'\n",
      "NN -> 'door'\n",
      ". -> '.'\n"
     ]
    }
   ],
   "source": [
    "from nltk import Tree\n",
    "\n",
    "t = Tree.fromstring(\"(S (VP (VB open) (NP (DT the) (NN door))) (. .))\")\n",
    "print(t.productions())\n",
    "\n",
    "# See how productions can be extracted from trees (and used for grammar learning)\n",
    "\n",
    "t = Tree.fromstring(\"(S (VP (VB open) (NP (DT the) (NN door))) (. .))\")\n",
    "pretty_printing = \"\\n\".join([str(rule) for rule in t.productions()])\n",
    "print(pretty_printing)"
   ]
  },
  {
   "cell_type": "code",
   "execution_count": null,
   "metadata": {},
   "outputs": [],
   "source": []
  }
 ],
 "metadata": {
  "kernelspec": {
   "display_name": "Python 3",
   "language": "python",
   "name": "python3"
  },
  "language_info": {
   "codemirror_mode": {
    "name": "ipython",
    "version": 3
   },
   "file_extension": ".py",
   "mimetype": "text/x-python",
   "name": "python",
   "nbconvert_exporter": "python",
   "pygments_lexer": "ipython3",
   "version": "3.7.4"
  }
 },
 "nbformat": 4,
 "nbformat_minor": 2
}
