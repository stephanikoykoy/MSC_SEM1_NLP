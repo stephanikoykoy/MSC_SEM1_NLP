{
 "cells": [
  {
   "cell_type": "code",
   "execution_count": 1,
   "metadata": {},
   "outputs": [
    {
     "name": "stderr",
     "output_type": "stream",
     "text": [
      "[nltk_data] Downloading package treebank to /Users/julian/nltk_data...\n",
      "[nltk_data]   Package treebank is already up-to-date!\n"
     ]
    },
    {
     "data": {
      "text/plain": [
       "True"
      ]
     },
     "execution_count": 1,
     "metadata": {},
     "output_type": "execute_result"
    }
   ],
   "source": [
    "import nltk\n",
    "from nltk.corpus import treebank\n",
    "nltk.download('treebank')"
   ]
  },
  {
   "cell_type": "code",
   "execution_count": 2,
   "metadata": {
    "scrolled": true
   },
   "outputs": [
    {
     "name": "stdout",
     "output_type": "stream",
     "text": [
      "(S\n",
      "  (PP-TMP (IN In) (NP (NNP July)))\n",
      "  (, ,)\n",
      "  (NP-SBJ (DT the) (NNP Environmental) (NNP Protection) (NNP Agency))\n",
      "  (VP\n",
      "    (VBD imposed)\n",
      "    (NP (DT a) (JJ gradual) (NN ban))\n",
      "    (PP-CLR\n",
      "      (IN on)\n",
      "      (NP\n",
      "        (NP (ADJP (RB virtually) (DT all)) (NNS uses))\n",
      "        (PP (IN of) (NP (NN asbestos))))))\n",
      "  (. .))\n",
      "(S\n",
      "  (NP-SBJ (EX There))\n",
      "  (VP\n",
      "    (VBZ is)\n",
      "    (NP-PRD (DT no) (NN asbestos))\n",
      "    (PP-LOC (IN in) (NP (PRP$ our) (NNS products)))\n",
      "    (ADVP-TMP (RB now)))\n",
      "  (. .)\n",
      "  ('' ''))\n",
      "(S\n",
      "  (NP-SBJ (DT The) (JJ top) (NN money) (NNS funds))\n",
      "  (VP\n",
      "    (VBP are)\n",
      "    (ADVP-TMP (RB currently))\n",
      "    (VP (VBG yielding) (NP (QP (RB well) (IN over) (CD 9)) (NN %))))\n",
      "  (. .))\n"
     ]
    }
   ],
   "source": [
    "##\n",
    "# Load in the Penn Treebank sentences and have a look at the trees\n",
    "##\n",
    "sentence22 = treebank.parsed_sents('wsj_0003.mrg')[21]\n",
    "sentence7 = treebank.parsed_sents('wsj_0003.mrg')[6]\n",
    "sentence13 = treebank.parsed_sents('wsj_0004.mrg')[12]\n",
    "\n",
    "print(sentence22)\n",
    "print(sentence7)\n",
    "print(sentence13)"
   ]
  },
  {
   "cell_type": "code",
   "execution_count": null,
   "metadata": {},
   "outputs": [],
   "source": []
  },
  {
   "cell_type": "code",
   "execution_count": null,
   "metadata": {},
   "outputs": [],
   "source": []
  }
 ],
 "metadata": {
  "kernelspec": {
   "display_name": "Python 3",
   "language": "python",
   "name": "python3"
  },
  "language_info": {
   "codemirror_mode": {
    "name": "ipython",
    "version": 3
   },
   "file_extension": ".py",
   "mimetype": "text/x-python",
   "name": "python",
   "nbconvert_exporter": "python",
   "pygments_lexer": "ipython3",
   "version": "3.7.4"
  }
 },
 "nbformat": 4,
 "nbformat_minor": 2
}
