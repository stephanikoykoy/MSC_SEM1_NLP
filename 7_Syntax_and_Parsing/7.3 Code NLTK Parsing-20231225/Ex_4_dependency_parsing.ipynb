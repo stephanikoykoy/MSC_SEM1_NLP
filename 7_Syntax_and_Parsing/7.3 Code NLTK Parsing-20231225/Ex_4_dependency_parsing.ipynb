{
 "cells": [
  {
   "cell_type": "code",
   "execution_count": 1,
   "metadata": {},
   "outputs": [
    {
     "name": "stdout",
     "output_type": "stream",
     "text": [
      "Dependency grammar with 5 productions\n",
      "  'fell' -> 'price'\n",
      "  'fell' -> 'stock'\n",
      "  'price' -> 'of' 'the'\n",
      "  'of' -> 'stock'\n",
      "  'stock' -> 'the'\n",
      "(fell (price the (of (stock the))))\n",
      "(fell (price the of) (stock the))\n",
      "(fell (price the of the) stock)\n"
     ]
    }
   ],
   "source": [
    "from nltk.grammar import DependencyGrammar\n",
    "\n",
    "from nltk.parse import (\n",
    "     DependencyGraph,\n",
    "     ProjectiveDependencyParser,\n",
    "     NonprojectiveDependencyParser,\n",
    " )\n",
    "\n",
    "\n",
    "grammar = DependencyGrammar.fromstring(\"\"\"\n",
    "    'fell' -> 'price' | 'stock'\n",
    "    'price' -> 'of' 'the'\n",
    "    'of' -> 'stock'\n",
    "    'stock' -> 'the'\n",
    "    \"\"\")\n",
    "print(grammar)\n",
    "\n",
    "\n",
    "dp = ProjectiveDependencyParser(grammar)\n",
    "for t in sorted(dp.parse(['the', 'price', 'of', 'the', 'stock', 'fell'])):\n",
    "    print(t)"
   ]
  },
  {
   "cell_type": "code",
   "execution_count": null,
   "metadata": {},
   "outputs": [],
   "source": []
  },
  {
   "cell_type": "code",
   "execution_count": null,
   "metadata": {},
   "outputs": [],
   "source": []
  }
 ],
 "metadata": {
  "kernelspec": {
   "display_name": "Python 3",
   "language": "python",
   "name": "python3"
  },
  "language_info": {
   "codemirror_mode": {
    "name": "ipython",
    "version": 3
   },
   "file_extension": ".py",
   "mimetype": "text/x-python",
   "name": "python",
   "nbconvert_exporter": "python",
   "pygments_lexer": "ipython3",
   "version": "3.7.4"
  }
 },
 "nbformat": 4,
 "nbformat_minor": 2
}
