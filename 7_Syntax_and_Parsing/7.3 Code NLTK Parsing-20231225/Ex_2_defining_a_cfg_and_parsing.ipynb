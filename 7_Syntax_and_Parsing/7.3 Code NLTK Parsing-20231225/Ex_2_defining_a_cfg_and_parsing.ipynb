{
 "cells": [
  {
   "cell_type": "code",
   "execution_count": 1,
   "metadata": {},
   "outputs": [
    {
     "name": "stdout",
     "output_type": "stream",
     "text": [
      "invoking the parser...\n",
      "analyzing sentence...\n"
     ]
    }
   ],
   "source": [
    "import nltk\n",
    "from nltk.corpus import treebank\n",
    "\n",
    "# Defining the CFG\n",
    "## Here you define the grammar as a string with the production rules and lexicon\n",
    "### Here one could add the rule 'NP -> NP PP' to get eleven readings\n",
    "grammar = nltk.CFG.fromstring(\"\"\"\n",
    "S -> NP VP | VP | IVP | Aux NP VP\n",
    "IVP -> IV NP NP PP | IV NP NP\n",
    "NP -> Det Nom | Proper-Noun | Pronoun\n",
    "Nom -> Nom N | Nom PP | N\n",
    "VP -> V NP PP | V PP  | V NP | V | VP PP\n",
    "PP -> PRP NP\n",
    "Proper-Noun -> 'Denver'\n",
    "Pronoun ->'me'\n",
    "Det ->'the'\n",
    "TO -> 'to'\n",
    "PRP ->'on'\n",
    "PRP -> 'to'\n",
    "N -> 'flight'\n",
    "N -> 'seats'\n",
    "IV -> 'List'\n",
    "\"\"\")\n",
    "\n",
    "def processSentence(sentence):\n",
    "    sentenceList = sentence\n",
    "    if isinstance(sentence,str):\n",
    "        sentenceList = sentence.split(' ')\n",
    "    return parser.parse(sentenceList)\n",
    "\n",
    "print(\"invoking the parser...\")\n",
    "parser = nltk.ChartParser(grammar)\n",
    "print(\"analyzing sentence...\")\n",
    "parses =  processSentence(\"List me the seats on the flight to Denver\")\n"
   ]
  },
  {
   "cell_type": "code",
   "execution_count": 2,
   "metadata": {},
   "outputs": [
    {
     "name": "stdout",
     "output_type": "stream",
     "text": [
      "(S\n",
      "  (IVP\n",
      "    (IV List)\n",
      "    (NP (Pronoun me))\n",
      "    (NP\n",
      "      (Det the)\n",
      "      (Nom\n",
      "        (Nom (N seats))\n",
      "        (PP (PRP on) (NP (Det the) (Nom (N flight))))))\n",
      "    (PP (PRP to) (NP (Proper-Noun Denver)))))\n",
      "(S\n",
      "  (IVP\n",
      "    (IV List)\n",
      "    (NP (Pronoun me))\n",
      "    (NP (Det the) (Nom (N seats)))\n",
      "    (PP\n",
      "      (PRP on)\n",
      "      (NP\n",
      "        (Det the)\n",
      "        (Nom\n",
      "          (Nom (N flight))\n",
      "          (PP (PRP to) (NP (Proper-Noun Denver))))))))\n",
      "(S\n",
      "  (IVP\n",
      "    (IV List)\n",
      "    (NP (Pronoun me))\n",
      "    (NP\n",
      "      (Det the)\n",
      "      (Nom\n",
      "        (Nom\n",
      "          (Nom (N seats))\n",
      "          (PP (PRP on) (NP (Det the) (Nom (N flight)))))\n",
      "        (PP (PRP to) (NP (Proper-Noun Denver)))))))\n",
      "(S\n",
      "  (IVP\n",
      "    (IV List)\n",
      "    (NP (Pronoun me))\n",
      "    (NP\n",
      "      (Det the)\n",
      "      (Nom\n",
      "        (Nom (N seats))\n",
      "        (PP\n",
      "          (PRP on)\n",
      "          (NP\n",
      "            (Det the)\n",
      "            (Nom\n",
      "              (Nom (N flight))\n",
      "              (PP (PRP to) (NP (Proper-Noun Denver))))))))))\n",
      "done!\n"
     ]
    }
   ],
   "source": [
    "# iterate over all the different possible parses\n",
    "for t in parses:\n",
    "    print(t)\n",
    "print(\"done!\")"
   ]
  },
  {
   "cell_type": "code",
   "execution_count": 3,
   "metadata": {},
   "outputs": [],
   "source": [
    "# Exercise: try changing the grammar and the test sentence above"
   ]
  },
  {
   "cell_type": "code",
   "execution_count": null,
   "metadata": {},
   "outputs": [],
   "source": []
  }
 ],
 "metadata": {
  "kernelspec": {
   "display_name": "Python 3",
   "language": "python",
   "name": "python3"
  },
  "language_info": {
   "codemirror_mode": {
    "name": "ipython",
    "version": 3
   },
   "file_extension": ".py",
   "mimetype": "text/x-python",
   "name": "python",
   "nbconvert_exporter": "python",
   "pygments_lexer": "ipython3",
   "version": "3.7.4"
  }
 },
 "nbformat": 4,
 "nbformat_minor": 2
}
